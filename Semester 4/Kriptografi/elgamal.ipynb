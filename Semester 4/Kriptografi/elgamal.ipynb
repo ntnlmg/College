{
 "cells": [
  {
   "cell_type": "code",
   "execution_count": 114,
   "metadata": {},
   "outputs": [
    {
     "name": "stdout",
     "output_type": "stream",
     "text": [
      "16\n",
      "21\n",
      "ascii\tk\tr\tt\tM\n",
      "65 \t 13 \t 45 \t 21 \t 65\n"
     ]
    }
   ],
   "source": [
    "ascii = ord('A')\n",
    "# ascii = ord('K')\n",
    "# ascii = ord('U')\n",
    "\n",
    "p = 107\n",
    "q = (p-1)//2\n",
    "alfa = 5\n",
    "a = 70\n",
    "\n",
    "k = 13\n",
    "\n",
    "beta = alfa**a % p\n",
    "print(beta)\n",
    "\n",
    "r = alfa**k % p\n",
    "ra = r**(p-1-a) % p\n",
    "t = beta**k*ascii % p\n",
    "print(t)\n",
    "\n",
    "M = t*ra % p\n",
    "print(\"ascii\\tk\\tr\\tt\\tM\")\n",
    "print(ascii, \"\\t\", k, \"\\t\", r, \"\\t\", t, \"\\t\", M)\n"
   ]
  },
  {
   "cell_type": "code",
   "execution_count": 1,
   "metadata": {},
   "outputs": [
    {
     "name": "stdout",
     "output_type": "stream",
     "text": [
      "List of alfa's that can be used:  [2, 5, 6, 7, 8]\n"
     ]
    }
   ],
   "source": [
    "import random\n",
    "\n",
    "plaintext = input(\"Plaintext: \")\n",
    "p = int(input(\"Please enter a big prime numb: \"))\n",
    "a = int(input(\"Please enter any number: \"))\n",
    "\n",
    "# plaintext  = \"AKU\"\n",
    "# p = 107\n",
    "# a = 63\n",
    "q = int((p-1) / 2)\n",
    "# print(q)\n",
    "\n",
    "\n",
    "def is_prime(x):\n",
    "    for i in range(2, x):\n",
    "        if x % i == 0:\n",
    "            return False\n",
    "    return True\n",
    "    \n",
    "\n",
    "def find_alfa(prime, q):\n",
    "    alfa = []\n",
    "    rule1 = [] \n",
    "    rule2 = [] \n",
    "\n",
    "    for h in range(len(plaintext)):\n",
    "        alfa.append(h+1)\n",
    "        for i in range(len(alfa)):\n",
    "            a2 = (alfa[i]**2) % prime # α2 mod p \n",
    "            aq = (alfa[i]**q) % prime # αq mod p\n",
    "            # print(newrule1)\n",
    "            # print(newrule2)\n",
    "            if (aq != 1):\n",
    "                rule1.append(a2)\n",
    "                rule2.append(aq)\n",
    "            else:\n",
    "                alfa.remove(alfa[i])\n",
    "            \n",
    "    print(\"List of alfa's that can be used: \" , alfa)\n",
    "    \n",
    "    alpha = int(input(\"Select which alpha you wanna use from list above: \"))\n",
    "    print(\"finding alfa.\")\n",
    "    print(\"finding alfa..\")\n",
    "    print(\"finding alfa...\")\n",
    "    for _ in range (len(alfa)):\n",
    "        print(alpha == alfa[_])\n",
    "        if (alpha == alfa[_]):\n",
    "            newalfa = alfa[_]\n",
    "    return newalfa\n",
    "\n",
    "def find_beta(alfa, a, p):\n",
    "    print(\"finding beta.\")\n",
    "    print(\"finding beta..\")\n",
    "    print(\"finding beta...\")\n",
    "    return alfa**a % p\n",
    "    \n",
    "\n",
    "def encrypt(plaintext, alfa, beta , a, p):\n",
    "    print(\"encrypting.\")\n",
    "    print(\"encrypting..\")\n",
    "    print(\"encrypting...\")\n",
    "    print(\"ascii\\t k\\t r\\t t\\t M\")\n",
    "    for _ in range(len(plaintext)):\n",
    "        k = random.randint(1,len(plaintext)**len(plaintext))\n",
    "        r = alfa**k % p\n",
    "        ra = r**(p-1-a) % p\n",
    "        t = beta** k * ord(plaintext[_]) % p  \n",
    "        M = t*ra % p\n",
    "        print(ord(plaintext[_]), \"\\t\", k, \"\\t\", r, \"\\t\", t, \"\\t\", M)\n",
    "\n",
    "# def decrypy(plaintext, alfa, beta , a, p):\n",
    "    # for i in range(len(plaintext)):\n",
    "    #         k = random.randint(1,len(plaintext)+1)\n",
    "    #         r = alfa**k % p\n",
    "    #         ra = r**(p-1-a) % p\n",
    "    #         t = beta** k * ord(plaintext[i]) % p  \n",
    "    #         M = t*ra % p\n",
    "    # return ord(plaintext[i]), k ,r, t, M\n",
    "        \n",
    "        \n",
    "\n",
    "alfa = find_alfa(p, q)   \n",
    "beta = find_beta(alfa, a, p)        \n",
    "encrypt(plaintext, alfa, beta, a, p)"
   ]
  }
 ],
 "metadata": {
  "kernelspec": {
   "display_name": "Python 3",
   "language": "python",
   "name": "python3"
  },
  "language_info": {
   "codemirror_mode": {
    "name": "ipython",
    "version": 3
   },
   "file_extension": ".py",
   "mimetype": "text/x-python",
   "name": "python",
   "nbconvert_exporter": "python",
   "pygments_lexer": "ipython3",
   "version": "3.9.7"
  },
  "orig_nbformat": 4
 },
 "nbformat": 4,
 "nbformat_minor": 2
}
