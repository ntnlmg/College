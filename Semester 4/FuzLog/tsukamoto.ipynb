{
 "cells": [
  {
   "cell_type": "code",
   "execution_count": 14,
   "metadata": {},
   "outputs": [],
   "source": [
    "def sedikit(b,a,x):\n",
    "    if(x<=a):\n",
    "        nilai = 1\n",
    "    elif(x>a and x<b):\n",
    "        nilai = (b-x)/(b-a)\n",
    "    elif(x>=b):\n",
    "        nilai = 0\n",
    "\n",
    "    return nilai"
   ]
  },
  {
   "cell_type": "code",
   "execution_count": 15,
   "metadata": {},
   "outputs": [],
   "source": [
    "def banyak(b,a,x):\n",
    "    if(x<=a):\n",
    "        nilai = 0\n",
    "    elif(x>a and x<b):\n",
    "        nilai = (x-a)/(b-a)\n",
    "    elif(x>=b):\n",
    "        nilai = 1\n",
    "\n",
    "    return nilai"
   ]
  },
  {
   "cell_type": "code",
   "execution_count": 16,
   "metadata": {},
   "outputs": [],
   "source": [
    "def agregasi_sedikit(b,a,alfa):\n",
    "    nilai = b - (alfa*(b-a))\n",
    "    return nilai"
   ]
  },
  {
   "cell_type": "code",
   "execution_count": 17,
   "metadata": {},
   "outputs": [],
   "source": [
    "def agregasi_banyak(b,a,alfa):\n",
    "    nilai = alfa*(b-a) + a\n",
    "    return nilai"
   ]
  },
  {
   "cell_type": "code",
   "execution_count": 18,
   "metadata": {},
   "outputs": [],
   "source": [
    "var = int(input(\"Jumlah variabel: \"))\n",
    "\n",
    "nama_var = []\n",
    "for i in range(var):\n",
    "    nama = input(\"Sebutkan nama variabel: \")\n",
    "    nama_var.append(nama)"
   ]
  },
  {
   "cell_type": "code",
   "execution_count": 19,
   "metadata": {},
   "outputs": [
    {
     "name": "stdout",
     "output_type": "stream",
     "text": [
      "persediaan\n",
      "permintaan\n",
      "produksi\n",
      "jual\n",
      "{'persediaan_banyak': 300, 'persediaan_sedikit': 100, 'permintaan_banyak': 500, 'permintaan_sedikit': 100, 'produksi_banyak': 1000, 'produksi_sedikit': 600, 'jual_banyak': 2000, 'jual_sedikit': 1000}\n"
     ]
    }
   ],
   "source": [
    "variabel = dict()\n",
    "for i in nama_var:\n",
    "    print(i)\n",
    "    up = int(input(\"banyak : \"))\n",
    "    down = int(input(\"sedikit : \"))\n",
    "    variabel.update({i+\"_banyak\":up})\n",
    "    variabel.update({i+\"_sedikit\":down})\n",
    "    \n",
    "print(variabel)"
   ]
  },
  {
   "cell_type": "code",
   "execution_count": 20,
   "metadata": {},
   "outputs": [
    {
     "name": "stdout",
     "output_type": "stream",
     "text": [
      "{'persediaan': 125, 'permintaan': 380, 'produksi': 700}\n"
     ]
    }
   ],
   "source": [
    "soal = dict()\n",
    "\n",
    "jml = int(input(\"Jumlah variabel yang diketahui : \"))\n",
    "\n",
    "for i in range(jml):\n",
    "    ver = input(\"Nama variabel : \")\n",
    "    val = int(input(\"Nilai : \"))   \n",
    "    soal.update({ver:val})\n",
    "    \n",
    "print(soal)\n",
    "\n",
    "dit = input(\"Variabel yang ditanyakan : \")"
   ]
  },
  {
   "cell_type": "code",
   "execution_count": 21,
   "metadata": {},
   "outputs": [
    {
     "name": "stdout",
     "output_type": "stream",
     "text": [
      "{'persediaan_banyak': 0.125, 'persediaan_sedikit': 0.875, 'permintaan_banyak': 0.7, 'permintaan_sedikit': 0.3, 'produksi_banyak': 0.25, 'produksi_sedikit': 0.75}\n"
     ]
    }
   ],
   "source": [
    "nk = dict()\n",
    "for i in soal:\n",
    "    up = banyak(variabel[i+\"_banyak\"],variabel[i+\"_sedikit\"],soal[i])\n",
    "    down = sedikit(variabel[i+\"_banyak\"],variabel[i+\"_sedikit\"],soal[i])\n",
    "    nk.update({i+\"_banyak\":up})\n",
    "    nk.update({i+\"_sedikit\":down})\n",
    "\n",
    "print(nk)"
   ]
  },
  {
   "cell_type": "code",
   "execution_count": 22,
   "metadata": {},
   "outputs": [],
   "source": [
    "#AGREGASI\n",
    "alfa = []\n",
    "z = []\n",
    "\n",
    "r = int(input(\"Masukkan jumlah peraturan : \"))\n",
    "\n",
    "for i in range(r):\n",
    "    kondisi1 = input(\"Kondisi 1(banyak/sedikit): \")\n",
    "    kondisi2 = input(\"Kondisi 2(banyak/sedikit): \")\n",
    "    kondisi3 = input(\"Kondisi 3(banyak/sedikit): \")\n",
    "    kesimpulan = input(\"Kesimpulan(mahal/murah): \")\n",
    "    \n",
    "    #Fire Strength INTERSEKSI (AND)\n",
    "    a = min(nk[kondisi1],nk[kondisi2],nk[kondisi3]) \n",
    "    alfa.append(a)\n",
    "    if(kesimpulan == \"sedikit\"):\n",
    "        zz = agregasi_sedikit(variabel[dit+\"_banyak\"],variabel[dit+\"_sedikit\"],a)\n",
    "    elif(kesimpulan == \"banyak\"):\n",
    "        zz = agregasi_banyak(variabel[dit+\"_banyak\"],variabel[dit+\"_sedikit\"],a)        \n",
    "    z.append(zz)"
   ]
  },
  {
   "cell_type": "code",
   "execution_count": 23,
   "metadata": {},
   "outputs": [
    {
     "name": "stdout",
     "output_type": "stream",
     "text": [
      "[0.3, 0.7, 0.125, 0.125, 0.25, 0.25, 0.125, 0.125]\n",
      "[5000.0, 5000.0, 5000.0, 5000.0, 5000.0, 5000.0, 5000.0, 5000.0]\n"
     ]
    }
   ],
   "source": [
    "print(alfa)\n",
    "print(z)"
   ]
  },
  {
   "cell_type": "code",
   "execution_count": 24,
   "metadata": {},
   "outputs": [
    {
     "name": "stdout",
     "output_type": "stream",
     "text": [
      "Jadi, nilai  jual  adalah  5000\n"
     ]
    }
   ],
   "source": [
    "#DEFUZIFIKASI\n",
    "df = 0\n",
    "\n",
    "for i in range(len(alfa)):\n",
    "    df += alfa[i]*z[i]\n",
    "\n",
    "defuz = int(df/sum(alfa))\n",
    "\n",
    "print(\"Jadi, nilai \",dit,\" adalah \",defuz)"
   ]
  }
 ],
 "metadata": {
  "kernelspec": {
   "display_name": "Python 3",
   "language": "python",
   "name": "python3"
  },
  "language_info": {
   "codemirror_mode": {
    "name": "ipython",
    "version": 3
   },
   "file_extension": ".py",
   "mimetype": "text/x-python",
   "name": "python",
   "nbconvert_exporter": "python",
   "pygments_lexer": "ipython3",
   "version": "3.9.7"
  },
  "orig_nbformat": 4
 },
 "nbformat": 4,
 "nbformat_minor": 2
}
