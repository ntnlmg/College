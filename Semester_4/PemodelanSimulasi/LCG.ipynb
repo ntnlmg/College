{
 "cells": [
  {
   "cell_type": "code",
   "execution_count": null,
   "metadata": {},
   "outputs": [],
   "source": [
    "import numpy as np\n",
    "import csv\n",
    "# LCG\n",
    "with open('LCG.csv', 'w', encoding='utf-8') as file:\n",
    "    writer = csv.writer(file)\n",
    "\n",
    "    def lcg(x, a, c, m, i):\n",
    "        List = []\n",
    "        List.append(round(x/m, 5))\n",
    "        for iterasi in range(i-1):\n",
    "            x = (a*x+c) % m\n",
    "            r = round(x / m, 5)\n",
    "            # rr = str(r)\n",
    "            List.append(r)\n",
    "\n",
    "            # writer.writerow(rr)\n",
    "\n",
    "        # print(r)\n",
    "        cycle = 0\n",
    "        for check1 in range(i):\n",
    "            for check2 in range(i):\n",
    "                if (check1 != check2):\n",
    "                    if (List[check1] == List[check2]):\n",
    "                        cycle += 1\n",
    "        # print(List)\n",
    "        writer.writerow(List)\n",
    "        print(\"The numbers are saved into LCG.csv\")\n",
    "        print(\"n:\", len(List), \" Cycle:\", cycle)\n",
    "\n",
    "    lcg(15, 75, 74, 2**16 + 1, 10000)\n"
   ]
  }
 ],
 "metadata": {
  "language_info": {
   "name": "python"
  },
  "orig_nbformat": 4
 },
 "nbformat": 4,
 "nbformat_minor": 2
}
