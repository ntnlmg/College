{
 "cells": [
  {
   "cell_type": "code",
   "execution_count": null,
   "metadata": {},
   "outputs": [],
   "source": [
    "import cv2 as cv\n",
    "import matplotlib.pyplot as mp\n",
    "import numpy as np\n",
    "\n",
    "img = cv.imread('img/MicrosoftTeams-image.png')\n",
    "# cv.imshow(\"img\",img)\n",
    "\n",
    "gray = cv.cvtColor(img, cv.COLOR_BGR2GRAY)\n",
    "# cv.imshow(\"gray\", gray)\n",
    "\n",
    "mp.hist(gray.ravel(), 256, [0, 256]); mp.show()\n",
    "\n",
    "ret, thresh1 = cv.threshold(gray, 100, 255, cv.THRESH_BINARY)\n",
    "# cv.imshow(\"threshold img\", thresh1)\n",
    "mp.imshow(thresh1)\n",
    "\n",
    "# cv.waitKey(0)\n",
    "# cv.destroyAllWindows()\n",
    "\n"
   ]
  },
  {
   "cell_type": "code",
   "execution_count": 4,
   "metadata": {},
   "outputs": [
    {
     "data": {
      "image/png": "[encoded data removed]",
      "text/plain": [
       "<Figure size 640x480 with 1 Axes>"
      ]
     },
     "metadata": {},
     "output_type": "display_data"
    },
    {
     "data": {
      "image/png": "[encoded data removed]",
      "text/plain": [
       "<Figure size 640x480 with 1 Axes>"
      ]
     },
     "metadata": {},
     "output_type": "display_data"
    },
    {
     "data": {
      "text/plain": [
       "0"
      ]
     },
     "execution_count": 4,
     "metadata": {},
     "output_type": "execute_result"
    },
    {
     "ename": "",
     "evalue": "",
     "output_type": "error",
     "traceback": [
      "\u001b[1;31mThe Kernel crashed while executing code in the the current cell or a previous cell. Please review the code in the cell(s) to identify a possible cause of the failure. Click <a href='https://aka.ms/vscodeJupyterKernelCrash'>here</a> for more info. View Jupyter <a href='command:jupyter.viewOutput'>log</a> for further details."
     ]
    }
   ],
   "source": [
    "import cv2 as cv\n",
    "import matplotlib.pyplot as mp\n",
    "import numpy as np\n",
    "\n",
    "\n",
    "img = cv.imread('img/MicrosoftTeams-image (1).png')\n",
    "\n",
    "gray = cv.cvtColor(img, cv.COLOR_BGR2GRAY)\n",
    "cv.imshow(\"src\", gray)\n",
    "\n",
    "mp.hist(gray.ravel(), 256, [0, 256]); mp.show()\n",
    "\n",
    "ret, thresh1 = cv.threshold(gray, 100, 255, cv.THRESH_BINARY)\n",
    "# cv.imshow(\"threshold img\", thresh1)\n",
    "mp.imshow(thresh1)\n",
    "\n",
    "res = cv.equalizeHist(gray)\n",
    "cv.imshow('Equalized Image', res)\n",
    "\n",
    "mp.hist(res.ravel(), 256, [0, 256]); mp.show()\n",
    "\n",
    "cv.waitKey()\n",
    "# cv.destroyAllWindows()"
   ]
  },
  {
   "cell_type": "code",
   "execution_count": null,
   "metadata": {},
   "outputs": [],
   "source": [
    "import cv2 as cv\n",
    "import matplotlib.pyplot as mp\n",
    "\n",
    "img_list = [\n",
    "    \"img/MicrosoftTeams-image1.png\",\n",
    "    \"img/MicrosoftTeams-image2.png\",\n",
    "    \"img/MicrosoftTeams-image3.png\",\n",
    "    \"img/MicrosoftTeams-image4.png\",\n",
    "    \"img/MicrosoftTeams-image.png\"\n",
    "    \n",
    "]\n",
    "\n",
    "img = cv.imread(img_list[2]) \n",
    "\n",
    "b,g,r = cv.split(img)\n",
    "\n",
    "fig,ax = mp.subplots(2,2)\n",
    "ax[0,0].imshow(r, cmap='gray')\n",
    "ax[0,0].set_title(\"Red Channel\");\n",
    "ax[0,1].imshow(g, cmap='gray')\n",
    "ax[0,1].set_title(\"Green Channel\");\n",
    "ax[1,0].imshow(b, cmap='gray')\n",
    "ax[1,0].set_title(\"Blue Channel\");\n",
    "\n",
    "# Merge the individual channels into a BGR image\n",
    "imgMerged = cv.merge((b,g,r))\n",
    "# Show the merged output\n",
    "ax[1,1].imshow(imgMerged[:,:,::-1])\n",
    "ax[1,1].set_title(\"Merged Output\");\n",
    "print(ax)\n",
    "\n",
    "\n",
    "mp.show()\n",
    "\n",
    "res = cv.equalizeHist(gray)\n",
    "mp.imshow(res)"
   ]
  },
  {
   "cell_type": "code",
   "execution_count": 2,
   "metadata": {},
   "outputs": [
    {
     "name": "stderr",
     "output_type": "stream",
     "text": [
      "usage: ipykernel_launcher.py [-h] [--input INPUT]\n",
      "ipykernel_launcher.py: error: unrecognized arguments: --ip=127.0.0.1 --stdin=9003 --control=9001 --hb=9000 --Session.signature_scheme=\"hmac-sha256\" --Session.key=b\"ff710832-2063-4601-a200-02642dccb1af\" --shell=9002 --transport=\"tcp\" --iopub=9004 --f=c:\\Users\\ASUS\\AppData\\Roaming\\jupyter\\runtime\\kernel-v2-7600l1WPiRh0lTP8.json\n"
     ]
    },
    {
     "ename": "SystemExit",
     "evalue": "2",
     "output_type": "error",
     "traceback": [
      "An exception has occurred, use %tb to see the full traceback.\n",
      "\u001b[1;31mSystemExit\u001b[0m\u001b[1;31m:\u001b[0m 2\n"
     ]
    },
    {
     "name": "stderr",
     "output_type": "stream",
     "text": [
      "C:\\Users\\ASUS\\AppData\\Roaming\\Python\\Python311\\site-packages\\IPython\\core\\interactiveshell.py:3534: UserWarning: To exit: use 'exit', 'quit', or Ctrl-D.\n",
      "  warn(\"To exit: use 'exit', 'quit', or Ctrl-D.\", stacklevel=1)\n"
     ]
    }
   ],
   "source": [
    "import cv2 as cv\n",
    "import argparse\n",
    "parser = argparse.ArgumentParser(description='Code for Histogram Equalization tutorial.')\n",
    "parser.add_argument('--input', help='Path to input image.', default='lena.jpg')\n",
    "args = parser.parse_args()\n",
    "src = cv.imread(cv.samples.findFile(args.input))\n",
    "if src is None:\n",
    " print('Could not open or find the image:', args.input)\n",
    " exit(0)\n",
    "src = cv.cvtColor(src, cv.COLOR_BGR2GRAY)\n",
    "dst = cv.equalizeHist(src)\n",
    "cv.imshow('Source image', src)\n",
    "cv.imshow('Equalized Image', dst)\n",
    "cv.waitKey()\n"
   ]
  }
 ],
 "metadata": {
  "kernelspec": {
   "display_name": "Python 3",
   "language": "python",
   "name": "python3"
  },
  "language_info": {
   "name": "python",
   "version": "3.11.5"
  },
  "orig_nbformat": 4
 },
 "nbformat": 4,
 "nbformat_minor": 2
}
